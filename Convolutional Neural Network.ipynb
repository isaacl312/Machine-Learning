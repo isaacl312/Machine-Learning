{
 "cells": [
  {
   "cell_type": "markdown",
   "metadata": {},
   "source": [
    "# Building the Convolutional Neural Network"
   ]
  },
  {
   "cell_type": "code",
   "execution_count": 1,
   "metadata": {},
   "outputs": [
    {
     "name": "stderr",
     "output_type": "stream",
     "text": [
      "Using TensorFlow backend.\n"
     ]
    }
   ],
   "source": [
    "from keras.models import Sequential\n",
    "from keras.layers import Convolution2D\n",
    "from keras.layers import MaxPooling2D\n",
    "from keras.layers import Flatten\n",
    "from keras.layers import Dense"
   ]
  },
  {
   "cell_type": "markdown",
   "metadata": {},
   "source": [
    "# Initializing the CNN"
   ]
  },
  {
   "cell_type": "code",
   "execution_count": 2,
   "metadata": {
    "collapsed": true
   },
   "outputs": [],
   "source": [
    "classifier = Sequential()"
   ]
  },
  {
   "cell_type": "markdown",
   "metadata": {},
   "source": [
    "# Step 1 - Convolution"
   ]
  },
  {
   "cell_type": "markdown",
   "metadata": {},
   "source": [
    "classifier.add(Convolution2D(32, 3, 3, input_shape = (64, 64, 3), activation = 'relu'))"
   ]
  },
  {
   "cell_type": "markdown",
   "metadata": {},
   "source": [
    "# Step 2 - Pooling"
   ]
  },
  {
   "cell_type": "code",
   "execution_count": 4,
   "metadata": {
    "collapsed": true
   },
   "outputs": [],
   "source": [
    "classifier.add(MaxPooling2D(pool_size = (2, 2)))"
   ]
  },
  {
   "cell_type": "markdown",
   "metadata": {},
   "source": [
    "# Adding a Second Convolutional Layer"
   ]
  },
  {
   "cell_type": "code",
   "execution_count": 5,
   "metadata": {},
   "outputs": [
    {
     "name": "stderr",
     "output_type": "stream",
     "text": [
      "/home/atse/miniconda3/lib/python3.6/site-packages/ipykernel_launcher.py:1: UserWarning: Update your `Conv2D` call to the Keras 2 API: `Conv2D(32, (3, 3), activation=\"relu\")`\n",
      "  \"\"\"Entry point for launching an IPython kernel.\n"
     ]
    }
   ],
   "source": [
    "classifier.add(Convolution2D(32, 3, 3, activation = 'relu'))\n",
    "classifier.add(MaxPooling2D(pool_size = (2, 2)))"
   ]
  },
  {
   "cell_type": "markdown",
   "metadata": {},
   "source": [
    "# Step 3 - Flattening"
   ]
  },
  {
   "cell_type": "code",
   "execution_count": 6,
   "metadata": {
    "collapsed": true
   },
   "outputs": [],
   "source": [
    "classifier.add(Flatten())"
   ]
  },
  {
   "cell_type": "markdown",
   "metadata": {},
   "source": [
    "# Step 4 - Full Connection"
   ]
  },
  {
   "cell_type": "code",
   "execution_count": 7,
   "metadata": {},
   "outputs": [
    {
     "name": "stderr",
     "output_type": "stream",
     "text": [
      "/home/atse/miniconda3/lib/python3.6/site-packages/ipykernel_launcher.py:1: UserWarning: Update your `Dense` call to the Keras 2 API: `Dense(activation=\"relu\", units=128)`\n",
      "  \"\"\"Entry point for launching an IPython kernel.\n"
     ]
    }
   ],
   "source": [
    "classifier.add(Dense(output_dim = 128, activation = 'relu'))"
   ]
  },
  {
   "cell_type": "code",
   "execution_count": 8,
   "metadata": {},
   "outputs": [
    {
     "name": "stderr",
     "output_type": "stream",
     "text": [
      "/home/atse/miniconda3/lib/python3.6/site-packages/ipykernel_launcher.py:1: UserWarning: Update your `Dense` call to the Keras 2 API: `Dense(activation=\"sigmoid\", units=1)`\n",
      "  \"\"\"Entry point for launching an IPython kernel.\n"
     ]
    }
   ],
   "source": [
    "classifier.add(Dense(output_dim = 1, activation = 'sigmoid'))"
   ]
  },
  {
   "cell_type": "markdown",
   "metadata": {},
   "source": [
    "# Compiling the CNN"
   ]
  },
  {
   "cell_type": "code",
   "execution_count": 9,
   "metadata": {
    "collapsed": true
   },
   "outputs": [],
   "source": [
    "classifier.compile(optimizer = 'adam', loss = 'binary_crossentropy', metrics = ['accuracy'])"
   ]
  },
  {
   "cell_type": "markdown",
   "metadata": {},
   "source": [
    "# Fitting the CNN to the Images"
   ]
  },
  {
   "cell_type": "code",
   "execution_count": 10,
   "metadata": {
    "collapsed": true
   },
   "outputs": [],
   "source": [
    "from keras.preprocessing.image import ImageDataGenerator"
   ]
  },
  {
   "cell_type": "code",
   "execution_count": 13,
   "metadata": {
    "collapsed": true
   },
   "outputs": [],
   "source": [
    "train_datagen = ImageDataGenerator(rescale = 1./255,\n",
    "                                   shear_range = 0.2,\n",
    "                                   zoom_range = 0.2,\n",
    "                                   horizontal_flip = True)"
   ]
  },
  {
   "cell_type": "code",
   "execution_count": 14,
   "metadata": {},
   "outputs": [
    {
     "data": {
      "text/plain": [
       "<keras.preprocessing.image.ImageDataGenerator at 0x7fa3aae39908>"
      ]
     },
     "execution_count": 14,
     "metadata": {},
     "output_type": "execute_result"
    }
   ],
   "source": [
    "train_datagen"
   ]
  },
  {
   "cell_type": "code",
   "execution_count": 12,
   "metadata": {
    "collapsed": true
   },
   "outputs": [],
   "source": [
    "test_datagen = ImageDataGenerator(rescale = 1./255)"
   ]
  },
  {
   "cell_type": "code",
   "execution_count": 15,
   "metadata": {},
   "outputs": [
    {
     "data": {
      "text/plain": [
       "<keras.preprocessing.image.ImageDataGenerator at 0x7fa3aae39668>"
      ]
     },
     "execution_count": 15,
     "metadata": {},
     "output_type": "execute_result"
    }
   ],
   "source": [
    "test_datagen"
   ]
  },
  {
   "cell_type": "code",
   "execution_count": 20,
   "metadata": {},
   "outputs": [
    {
     "name": "stdout",
     "output_type": "stream",
     "text": [
      "Found 8000 images belonging to 2 classes.\n"
     ]
    },
    {
     "data": {
      "text/plain": [
       "<keras.preprocessing.image.DirectoryIterator at 0x7fa3aae5d080>"
      ]
     },
     "execution_count": 20,
     "metadata": {},
     "output_type": "execute_result"
    }
   ],
   "source": [
    "training_set = train_datagen.flow_from_directory('dataset/training_set',\n",
    "                                                 target_size = (64, 64),\n",
    "                                                 batch_size = 32,\n",
    "                                                 class_mode = 'binary')\n",
    "training_set"
   ]
  },
  {
   "cell_type": "code",
   "execution_count": 21,
   "metadata": {},
   "outputs": [
    {
     "name": "stdout",
     "output_type": "stream",
     "text": [
      "Found 2000 images belonging to 2 classes.\n"
     ]
    },
    {
     "data": {
      "text/plain": [
       "<keras.preprocessing.image.DirectoryIterator at 0x7fa3aae5d160>"
      ]
     },
     "execution_count": 21,
     "metadata": {},
     "output_type": "execute_result"
    }
   ],
   "source": [
    "test_set = test_datagen.flow_from_directory('dataset/test_set',\n",
    "                                            target_size = (64, 64),\n",
    "                                            batch_size = 32,\n",
    "                                            class_mode = 'binary')\n",
    "test_set"
   ]
  },
  {
   "cell_type": "code",
   "execution_count": 22,
   "metadata": {},
   "outputs": [
    {
     "name": "stderr",
     "output_type": "stream",
     "text": [
      "/home/atse/miniconda3/lib/python3.6/site-packages/ipykernel_launcher.py:5: UserWarning: Update your `fit_generator` call to the Keras 2 API: `fit_generator(<keras.pre..., validation_data=<keras.pre..., steps_per_epoch=250, epochs=25, validation_steps=2000)`\n",
      "  \"\"\"\n"
     ]
    },
    {
     "name": "stdout",
     "output_type": "stream",
     "text": [
      "Epoch 1/25\n",
      "250/250 [==============================] - 206s - loss: 0.6743 - acc: 0.5772 - val_loss: 0.6153 - val_acc: 0.6725\n",
      "Epoch 2/25\n",
      "250/250 [==============================] - 186s - loss: 0.5952 - acc: 0.6776 - val_loss: 0.5359 - val_acc: 0.7346\n",
      "Epoch 3/25\n",
      "250/250 [==============================] - 185s - loss: 0.5460 - acc: 0.7220 - val_loss: 0.5136 - val_acc: 0.7578\n",
      "Epoch 4/25\n",
      "250/250 [==============================] - 187s - loss: 0.5239 - acc: 0.7371 - val_loss: 0.5095 - val_acc: 0.7549\n",
      "Epoch 5/25\n",
      "250/250 [==============================] - 184s - loss: 0.5004 - acc: 0.7538 - val_loss: 0.4955 - val_acc: 0.7669\n",
      "Epoch 6/25\n",
      "250/250 [==============================] - 185s - loss: 0.4733 - acc: 0.7772 - val_loss: 0.4940 - val_acc: 0.7675\n",
      "Epoch 7/25\n",
      "250/250 [==============================] - 183s - loss: 0.4650 - acc: 0.7755 - val_loss: 0.4874 - val_acc: 0.7699\n",
      "Epoch 8/25\n",
      "250/250 [==============================] - 182s - loss: 0.4543 - acc: 0.7856 - val_loss: 0.4650 - val_acc: 0.7889\n",
      "Epoch 9/25\n",
      "250/250 [==============================] - 186s - loss: 0.4407 - acc: 0.7949 - val_loss: 0.4744 - val_acc: 0.7851\n",
      "Epoch 10/25\n",
      "250/250 [==============================] - 183s - loss: 0.4342 - acc: 0.7960 - val_loss: 0.4583 - val_acc: 0.7936\n",
      "Epoch 11/25\n",
      "250/250 [==============================] - 183s - loss: 0.4140 - acc: 0.8101 - val_loss: 0.4755 - val_acc: 0.7940\n",
      "Epoch 12/25\n",
      "250/250 [==============================] - 183s - loss: 0.4047 - acc: 0.8131 - val_loss: 0.4447 - val_acc: 0.8048\n",
      "Epoch 13/25\n",
      "250/250 [==============================] - 185s - loss: 0.3970 - acc: 0.8194 - val_loss: 0.4538 - val_acc: 0.7960\n",
      "Epoch 14/25\n",
      "250/250 [==============================] - 185s - loss: 0.3874 - acc: 0.8266 - val_loss: 0.4530 - val_acc: 0.7973\n",
      "Epoch 15/25\n",
      "250/250 [==============================] - 184s - loss: 0.3751 - acc: 0.8231 - val_loss: 0.4884 - val_acc: 0.7945\n",
      "Epoch 16/25\n",
      "250/250 [==============================] - 184s - loss: 0.3632 - acc: 0.8384 - val_loss: 0.4428 - val_acc: 0.8016\n",
      "Epoch 17/25\n",
      "250/250 [==============================] - 185s - loss: 0.3548 - acc: 0.8359 - val_loss: 0.4542 - val_acc: 0.8085\n",
      "Epoch 18/25\n",
      "250/250 [==============================] - 184s - loss: 0.3366 - acc: 0.8493 - val_loss: 0.4608 - val_acc: 0.8030\n",
      "Epoch 19/25\n",
      "250/250 [==============================] - 184s - loss: 0.3274 - acc: 0.8595 - val_loss: 0.4581 - val_acc: 0.8060\n",
      "Epoch 20/25\n",
      "250/250 [==============================] - 185s - loss: 0.3177 - acc: 0.8586 - val_loss: 0.4534 - val_acc: 0.8032\n",
      "Epoch 21/25\n",
      "250/250 [==============================] - 184s - loss: 0.3086 - acc: 0.8655 - val_loss: 0.4676 - val_acc: 0.8044\n",
      "Epoch 22/25\n",
      "250/250 [==============================] - 185s - loss: 0.2962 - acc: 0.8695 - val_loss: 0.4703 - val_acc: 0.8130\n",
      "Epoch 23/25\n",
      "250/250 [==============================] - 189s - loss: 0.2830 - acc: 0.8755 - val_loss: 0.4736 - val_acc: 0.8070\n",
      "Epoch 24/25\n",
      "250/250 [==============================] - 180s - loss: 0.2806 - acc: 0.8783 - val_loss: 0.4669 - val_acc: 0.8171\n",
      "Epoch 25/25\n",
      "250/250 [==============================] - 180s - loss: 0.2652 - acc: 0.8846 - val_loss: 0.4897 - val_acc: 0.8036\n"
     ]
    },
    {
     "data": {
      "text/plain": [
       "<keras.callbacks.History at 0x7fa3aa945eb8>"
      ]
     },
     "execution_count": 22,
     "metadata": {},
     "output_type": "execute_result"
    }
   ],
   "source": [
    "classifier.fit_generator(training_set,\n",
    "                         samples_per_epoch = 8000,\n",
    "                         nb_epoch = 25,\n",
    "                         validation_data = test_set,\n",
    "                         nb_val_samples = 2000)"
   ]
  },
  {
   "cell_type": "code",
   "execution_count": null,
   "metadata": {},
   "outputs": [],
   "source": []
  },
  {
   "cell_type": "code",
   "execution_count": null,
   "metadata": {
    "collapsed": true
   },
   "outputs": [],
   "source": []
  }
 ],
 "metadata": {
  "kernelspec": {
   "display_name": "Python 3",
   "language": "python",
   "name": "python3"
  },
  "language_info": {
   "codemirror_mode": {
    "name": "ipython",
    "version": 3
   },
   "file_extension": ".py",
   "mimetype": "text/x-python",
   "name": "python",
   "nbconvert_exporter": "python",
   "pygments_lexer": "ipython3",
   "version": "3.6.0"
  }
 },
 "nbformat": 4,
 "nbformat_minor": 2
}
