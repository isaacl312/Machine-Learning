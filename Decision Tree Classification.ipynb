{
 "cells": [
  {
   "cell_type": "markdown",
   "metadata": {},
   "source": [
    "# Importing the Packages"
   ]
  },
  {
   "cell_type": "code",
   "execution_count": 2,
   "metadata": {
    "collapsed": true
   },
   "outputs": [],
   "source": [
    "import numpy as np"
   ]
  },
  {
   "cell_type": "code",
   "execution_count": 3,
   "metadata": {
    "collapsed": true
   },
   "outputs": [],
   "source": [
    "import pandas as pd"
   ]
  },
  {
   "cell_type": "code",
   "execution_count": 4,
   "metadata": {
    "collapsed": true
   },
   "outputs": [],
   "source": [
    "import matplotlib.pyplot as plt\n",
    "%matplotlib inline"
   ]
  },
  {
   "cell_type": "markdown",
   "metadata": {},
   "source": [
    "# Importing the Dataset"
   ]
  },
  {
   "cell_type": "code",
   "execution_count": 6,
   "metadata": {
    "collapsed": true
   },
   "outputs": [],
   "source": [
    "dataset = pd.read_csv('Social_Network_Ads.csv')\n",
    "X = dataset.iloc[:, [2, 3]].values\n",
    "y = dataset.iloc[:, 4].values"
   ]
  },
  {
   "cell_type": "code",
   "execution_count": 7,
   "metadata": {
    "collapsed": false
   },
   "outputs": [
    {
     "data": {
      "text/plain": [
       "array([[  1.90000000e+01,   1.90000000e+04],\n",
       "       [  3.50000000e+01,   2.00000000e+04],\n",
       "       [  2.60000000e+01,   4.30000000e+04],\n",
       "       [  2.70000000e+01,   5.70000000e+04],\n",
       "       [  1.90000000e+01,   7.60000000e+04],\n",
       "       [  2.70000000e+01,   5.80000000e+04],\n",
       "       [  2.70000000e+01,   8.40000000e+04],\n",
       "       [  3.20000000e+01,   1.50000000e+05],\n",
       "       [  2.50000000e+01,   3.30000000e+04],\n",
       "       [  3.50000000e+01,   6.50000000e+04],\n",
       "       [  2.60000000e+01,   8.00000000e+04],\n",
       "       [  2.60000000e+01,   5.20000000e+04],\n",
       "       [  2.00000000e+01,   8.60000000e+04],\n",
       "       [  3.20000000e+01,   1.80000000e+04],\n",
       "       [  1.80000000e+01,   8.20000000e+04],\n",
       "       [  2.90000000e+01,   8.00000000e+04],\n",
       "       [  4.70000000e+01,   2.50000000e+04],\n",
       "       [  4.50000000e+01,   2.60000000e+04],\n",
       "       [  4.60000000e+01,   2.80000000e+04],\n",
       "       [  4.80000000e+01,   2.90000000e+04],\n",
       "       [  4.50000000e+01,   2.20000000e+04],\n",
       "       [  4.70000000e+01,   4.90000000e+04],\n",
       "       [  4.80000000e+01,   4.10000000e+04],\n",
       "       [  4.50000000e+01,   2.20000000e+04],\n",
       "       [  4.60000000e+01,   2.30000000e+04],\n",
       "       [  4.70000000e+01,   2.00000000e+04],\n",
       "       [  4.90000000e+01,   2.80000000e+04],\n",
       "       [  4.70000000e+01,   3.00000000e+04],\n",
       "       [  2.90000000e+01,   4.30000000e+04],\n",
       "       [  3.10000000e+01,   1.80000000e+04],\n",
       "       [  3.10000000e+01,   7.40000000e+04],\n",
       "       [  2.70000000e+01,   1.37000000e+05],\n",
       "       [  2.10000000e+01,   1.60000000e+04],\n",
       "       [  2.80000000e+01,   4.40000000e+04],\n",
       "       [  2.70000000e+01,   9.00000000e+04],\n",
       "       [  3.50000000e+01,   2.70000000e+04],\n",
       "       [  3.30000000e+01,   2.80000000e+04],\n",
       "       [  3.00000000e+01,   4.90000000e+04],\n",
       "       [  2.60000000e+01,   7.20000000e+04],\n",
       "       [  2.70000000e+01,   3.10000000e+04],\n",
       "       [  2.70000000e+01,   1.70000000e+04],\n",
       "       [  3.30000000e+01,   5.10000000e+04],\n",
       "       [  3.50000000e+01,   1.08000000e+05],\n",
       "       [  3.00000000e+01,   1.50000000e+04],\n",
       "       [  2.80000000e+01,   8.40000000e+04],\n",
       "       [  2.30000000e+01,   2.00000000e+04],\n",
       "       [  2.50000000e+01,   7.90000000e+04],\n",
       "       [  2.70000000e+01,   5.40000000e+04],\n",
       "       [  3.00000000e+01,   1.35000000e+05],\n",
       "       [  3.10000000e+01,   8.90000000e+04],\n",
       "       [  2.40000000e+01,   3.20000000e+04],\n",
       "       [  1.80000000e+01,   4.40000000e+04],\n",
       "       [  2.90000000e+01,   8.30000000e+04],\n",
       "       [  3.50000000e+01,   2.30000000e+04],\n",
       "       [  2.70000000e+01,   5.80000000e+04],\n",
       "       [  2.40000000e+01,   5.50000000e+04],\n",
       "       [  2.30000000e+01,   4.80000000e+04],\n",
       "       [  2.80000000e+01,   7.90000000e+04],\n",
       "       [  2.20000000e+01,   1.80000000e+04],\n",
       "       [  3.20000000e+01,   1.17000000e+05],\n",
       "       [  2.70000000e+01,   2.00000000e+04],\n",
       "       [  2.50000000e+01,   8.70000000e+04],\n",
       "       [  2.30000000e+01,   6.60000000e+04],\n",
       "       [  3.20000000e+01,   1.20000000e+05],\n",
       "       [  5.90000000e+01,   8.30000000e+04],\n",
       "       [  2.40000000e+01,   5.80000000e+04],\n",
       "       [  2.40000000e+01,   1.90000000e+04],\n",
       "       [  2.30000000e+01,   8.20000000e+04],\n",
       "       [  2.20000000e+01,   6.30000000e+04],\n",
       "       [  3.10000000e+01,   6.80000000e+04],\n",
       "       [  2.50000000e+01,   8.00000000e+04],\n",
       "       [  2.40000000e+01,   2.70000000e+04],\n",
       "       [  2.00000000e+01,   2.30000000e+04],\n",
       "       [  3.30000000e+01,   1.13000000e+05],\n",
       "       [  3.20000000e+01,   1.80000000e+04],\n",
       "       [  3.40000000e+01,   1.12000000e+05],\n",
       "       [  1.80000000e+01,   5.20000000e+04],\n",
       "       [  2.20000000e+01,   2.70000000e+04],\n",
       "       [  2.80000000e+01,   8.70000000e+04],\n",
       "       [  2.60000000e+01,   1.70000000e+04],\n",
       "       [  3.00000000e+01,   8.00000000e+04],\n",
       "       [  3.90000000e+01,   4.20000000e+04],\n",
       "       [  2.00000000e+01,   4.90000000e+04],\n",
       "       [  3.50000000e+01,   8.80000000e+04],\n",
       "       [  3.00000000e+01,   6.20000000e+04],\n",
       "       [  3.10000000e+01,   1.18000000e+05],\n",
       "       [  2.40000000e+01,   5.50000000e+04],\n",
       "       [  2.80000000e+01,   8.50000000e+04],\n",
       "       [  2.60000000e+01,   8.10000000e+04],\n",
       "       [  3.50000000e+01,   5.00000000e+04],\n",
       "       [  2.20000000e+01,   8.10000000e+04],\n",
       "       [  3.00000000e+01,   1.16000000e+05],\n",
       "       [  2.60000000e+01,   1.50000000e+04],\n",
       "       [  2.90000000e+01,   2.80000000e+04],\n",
       "       [  2.90000000e+01,   8.30000000e+04],\n",
       "       [  3.50000000e+01,   4.40000000e+04],\n",
       "       [  3.50000000e+01,   2.50000000e+04],\n",
       "       [  2.80000000e+01,   1.23000000e+05],\n",
       "       [  3.50000000e+01,   7.30000000e+04],\n",
       "       [  2.80000000e+01,   3.70000000e+04],\n",
       "       [  2.70000000e+01,   8.80000000e+04],\n",
       "       [  2.80000000e+01,   5.90000000e+04],\n",
       "       [  3.20000000e+01,   8.60000000e+04],\n",
       "       [  3.30000000e+01,   1.49000000e+05],\n",
       "       [  1.90000000e+01,   2.10000000e+04],\n",
       "       [  2.10000000e+01,   7.20000000e+04],\n",
       "       [  2.60000000e+01,   3.50000000e+04],\n",
       "       [  2.70000000e+01,   8.90000000e+04],\n",
       "       [  2.60000000e+01,   8.60000000e+04],\n",
       "       [  3.80000000e+01,   8.00000000e+04],\n",
       "       [  3.90000000e+01,   7.10000000e+04],\n",
       "       [  3.70000000e+01,   7.10000000e+04],\n",
       "       [  3.80000000e+01,   6.10000000e+04],\n",
       "       [  3.70000000e+01,   5.50000000e+04],\n",
       "       [  4.20000000e+01,   8.00000000e+04],\n",
       "       [  4.00000000e+01,   5.70000000e+04],\n",
       "       [  3.50000000e+01,   7.50000000e+04],\n",
       "       [  3.60000000e+01,   5.20000000e+04],\n",
       "       [  4.00000000e+01,   5.90000000e+04],\n",
       "       [  4.10000000e+01,   5.90000000e+04],\n",
       "       [  3.60000000e+01,   7.50000000e+04],\n",
       "       [  3.70000000e+01,   7.20000000e+04],\n",
       "       [  4.00000000e+01,   7.50000000e+04],\n",
       "       [  3.50000000e+01,   5.30000000e+04],\n",
       "       [  4.10000000e+01,   5.10000000e+04],\n",
       "       [  3.90000000e+01,   6.10000000e+04],\n",
       "       [  4.20000000e+01,   6.50000000e+04],\n",
       "       [  2.60000000e+01,   3.20000000e+04],\n",
       "       [  3.00000000e+01,   1.70000000e+04],\n",
       "       [  2.60000000e+01,   8.40000000e+04],\n",
       "       [  3.10000000e+01,   5.80000000e+04],\n",
       "       [  3.30000000e+01,   3.10000000e+04],\n",
       "       [  3.00000000e+01,   8.70000000e+04],\n",
       "       [  2.10000000e+01,   6.80000000e+04],\n",
       "       [  2.80000000e+01,   5.50000000e+04],\n",
       "       [  2.30000000e+01,   6.30000000e+04],\n",
       "       [  2.00000000e+01,   8.20000000e+04],\n",
       "       [  3.00000000e+01,   1.07000000e+05],\n",
       "       [  2.80000000e+01,   5.90000000e+04],\n",
       "       [  1.90000000e+01,   2.50000000e+04],\n",
       "       [  1.90000000e+01,   8.50000000e+04],\n",
       "       [  1.80000000e+01,   6.80000000e+04],\n",
       "       [  3.50000000e+01,   5.90000000e+04],\n",
       "       [  3.00000000e+01,   8.90000000e+04],\n",
       "       [  3.40000000e+01,   2.50000000e+04],\n",
       "       [  2.40000000e+01,   8.90000000e+04],\n",
       "       [  2.70000000e+01,   9.60000000e+04],\n",
       "       [  4.10000000e+01,   3.00000000e+04],\n",
       "       [  2.90000000e+01,   6.10000000e+04],\n",
       "       [  2.00000000e+01,   7.40000000e+04],\n",
       "       [  2.60000000e+01,   1.50000000e+04],\n",
       "       [  4.10000000e+01,   4.50000000e+04],\n",
       "       [  3.10000000e+01,   7.60000000e+04],\n",
       "       [  3.60000000e+01,   5.00000000e+04],\n",
       "       [  4.00000000e+01,   4.70000000e+04],\n",
       "       [  3.10000000e+01,   1.50000000e+04],\n",
       "       [  4.60000000e+01,   5.90000000e+04],\n",
       "       [  2.90000000e+01,   7.50000000e+04],\n",
       "       [  2.60000000e+01,   3.00000000e+04],\n",
       "       [  3.20000000e+01,   1.35000000e+05],\n",
       "       [  3.20000000e+01,   1.00000000e+05],\n",
       "       [  2.50000000e+01,   9.00000000e+04],\n",
       "       [  3.70000000e+01,   3.30000000e+04],\n",
       "       [  3.50000000e+01,   3.80000000e+04],\n",
       "       [  3.30000000e+01,   6.90000000e+04],\n",
       "       [  1.80000000e+01,   8.60000000e+04],\n",
       "       [  2.20000000e+01,   5.50000000e+04],\n",
       "       [  3.50000000e+01,   7.10000000e+04],\n",
       "       [  2.90000000e+01,   1.48000000e+05],\n",
       "       [  2.90000000e+01,   4.70000000e+04],\n",
       "       [  2.10000000e+01,   8.80000000e+04],\n",
       "       [  3.40000000e+01,   1.15000000e+05],\n",
       "       [  2.60000000e+01,   1.18000000e+05],\n",
       "       [  3.40000000e+01,   4.30000000e+04],\n",
       "       [  3.40000000e+01,   7.20000000e+04],\n",
       "       [  2.30000000e+01,   2.80000000e+04],\n",
       "       [  3.50000000e+01,   4.70000000e+04],\n",
       "       [  2.50000000e+01,   2.20000000e+04],\n",
       "       [  2.40000000e+01,   2.30000000e+04],\n",
       "       [  3.10000000e+01,   3.40000000e+04],\n",
       "       [  2.60000000e+01,   1.60000000e+04],\n",
       "       [  3.10000000e+01,   7.10000000e+04],\n",
       "       [  3.20000000e+01,   1.17000000e+05],\n",
       "       [  3.30000000e+01,   4.30000000e+04],\n",
       "       [  3.30000000e+01,   6.00000000e+04],\n",
       "       [  3.10000000e+01,   6.60000000e+04],\n",
       "       [  2.00000000e+01,   8.20000000e+04],\n",
       "       [  3.30000000e+01,   4.10000000e+04],\n",
       "       [  3.50000000e+01,   7.20000000e+04],\n",
       "       [  2.80000000e+01,   3.20000000e+04],\n",
       "       [  2.40000000e+01,   8.40000000e+04],\n",
       "       [  1.90000000e+01,   2.60000000e+04],\n",
       "       [  2.90000000e+01,   4.30000000e+04],\n",
       "       [  1.90000000e+01,   7.00000000e+04],\n",
       "       [  2.80000000e+01,   8.90000000e+04],\n",
       "       [  3.40000000e+01,   4.30000000e+04],\n",
       "       [  3.00000000e+01,   7.90000000e+04],\n",
       "       [  2.00000000e+01,   3.60000000e+04],\n",
       "       [  2.60000000e+01,   8.00000000e+04],\n",
       "       [  3.50000000e+01,   2.20000000e+04],\n",
       "       [  3.50000000e+01,   3.90000000e+04],\n",
       "       [  4.90000000e+01,   7.40000000e+04],\n",
       "       [  3.90000000e+01,   1.34000000e+05],\n",
       "       [  4.10000000e+01,   7.10000000e+04],\n",
       "       [  5.80000000e+01,   1.01000000e+05],\n",
       "       [  4.70000000e+01,   4.70000000e+04],\n",
       "       [  5.50000000e+01,   1.30000000e+05],\n",
       "       [  5.20000000e+01,   1.14000000e+05],\n",
       "       [  4.00000000e+01,   1.42000000e+05],\n",
       "       [  4.60000000e+01,   2.20000000e+04],\n",
       "       [  4.80000000e+01,   9.60000000e+04],\n",
       "       [  5.20000000e+01,   1.50000000e+05],\n",
       "       [  5.90000000e+01,   4.20000000e+04],\n",
       "       [  3.50000000e+01,   5.80000000e+04],\n",
       "       [  4.70000000e+01,   4.30000000e+04],\n",
       "       [  6.00000000e+01,   1.08000000e+05],\n",
       "       [  4.90000000e+01,   6.50000000e+04],\n",
       "       [  4.00000000e+01,   7.80000000e+04],\n",
       "       [  4.60000000e+01,   9.60000000e+04],\n",
       "       [  5.90000000e+01,   1.43000000e+05],\n",
       "       [  4.10000000e+01,   8.00000000e+04],\n",
       "       [  3.50000000e+01,   9.10000000e+04],\n",
       "       [  3.70000000e+01,   1.44000000e+05],\n",
       "       [  6.00000000e+01,   1.02000000e+05],\n",
       "       [  3.50000000e+01,   6.00000000e+04],\n",
       "       [  3.70000000e+01,   5.30000000e+04],\n",
       "       [  3.60000000e+01,   1.26000000e+05],\n",
       "       [  5.60000000e+01,   1.33000000e+05],\n",
       "       [  4.00000000e+01,   7.20000000e+04],\n",
       "       [  4.20000000e+01,   8.00000000e+04],\n",
       "       [  3.50000000e+01,   1.47000000e+05],\n",
       "       [  3.90000000e+01,   4.20000000e+04],\n",
       "       [  4.00000000e+01,   1.07000000e+05],\n",
       "       [  4.90000000e+01,   8.60000000e+04],\n",
       "       [  3.80000000e+01,   1.12000000e+05],\n",
       "       [  4.60000000e+01,   7.90000000e+04],\n",
       "       [  4.00000000e+01,   5.70000000e+04],\n",
       "       [  3.70000000e+01,   8.00000000e+04],\n",
       "       [  4.60000000e+01,   8.20000000e+04],\n",
       "       [  5.30000000e+01,   1.43000000e+05],\n",
       "       [  4.20000000e+01,   1.49000000e+05],\n",
       "       [  3.80000000e+01,   5.90000000e+04],\n",
       "       [  5.00000000e+01,   8.80000000e+04],\n",
       "       [  5.60000000e+01,   1.04000000e+05],\n",
       "       [  4.10000000e+01,   7.20000000e+04],\n",
       "       [  5.10000000e+01,   1.46000000e+05],\n",
       "       [  3.50000000e+01,   5.00000000e+04],\n",
       "       [  5.70000000e+01,   1.22000000e+05],\n",
       "       [  4.10000000e+01,   5.20000000e+04],\n",
       "       [  3.50000000e+01,   9.70000000e+04],\n",
       "       [  4.40000000e+01,   3.90000000e+04],\n",
       "       [  3.70000000e+01,   5.20000000e+04],\n",
       "       [  4.80000000e+01,   1.34000000e+05],\n",
       "       [  3.70000000e+01,   1.46000000e+05],\n",
       "       [  5.00000000e+01,   4.40000000e+04],\n",
       "       [  5.20000000e+01,   9.00000000e+04],\n",
       "       [  4.10000000e+01,   7.20000000e+04],\n",
       "       [  4.00000000e+01,   5.70000000e+04],\n",
       "       [  5.80000000e+01,   9.50000000e+04],\n",
       "       [  4.50000000e+01,   1.31000000e+05],\n",
       "       [  3.50000000e+01,   7.70000000e+04],\n",
       "       [  3.60000000e+01,   1.44000000e+05],\n",
       "       [  5.50000000e+01,   1.25000000e+05],\n",
       "       [  3.50000000e+01,   7.20000000e+04],\n",
       "       [  4.80000000e+01,   9.00000000e+04],\n",
       "       [  4.20000000e+01,   1.08000000e+05],\n",
       "       [  4.00000000e+01,   7.50000000e+04],\n",
       "       [  3.70000000e+01,   7.40000000e+04],\n",
       "       [  4.70000000e+01,   1.44000000e+05],\n",
       "       [  4.00000000e+01,   6.10000000e+04],\n",
       "       [  4.30000000e+01,   1.33000000e+05],\n",
       "       [  5.90000000e+01,   7.60000000e+04],\n",
       "       [  6.00000000e+01,   4.20000000e+04],\n",
       "       [  3.90000000e+01,   1.06000000e+05],\n",
       "       [  5.70000000e+01,   2.60000000e+04],\n",
       "       [  5.70000000e+01,   7.40000000e+04],\n",
       "       [  3.80000000e+01,   7.10000000e+04],\n",
       "       [  4.90000000e+01,   8.80000000e+04],\n",
       "       [  5.20000000e+01,   3.80000000e+04],\n",
       "       [  5.00000000e+01,   3.60000000e+04],\n",
       "       [  5.90000000e+01,   8.80000000e+04],\n",
       "       [  3.50000000e+01,   6.10000000e+04],\n",
       "       [  3.70000000e+01,   7.00000000e+04],\n",
       "       [  5.20000000e+01,   2.10000000e+04],\n",
       "       [  4.80000000e+01,   1.41000000e+05],\n",
       "       [  3.70000000e+01,   9.30000000e+04],\n",
       "       [  3.70000000e+01,   6.20000000e+04],\n",
       "       [  4.80000000e+01,   1.38000000e+05],\n",
       "       [  4.10000000e+01,   7.90000000e+04],\n",
       "       [  3.70000000e+01,   7.80000000e+04],\n",
       "       [  3.90000000e+01,   1.34000000e+05],\n",
       "       [  4.90000000e+01,   8.90000000e+04],\n",
       "       [  5.50000000e+01,   3.90000000e+04],\n",
       "       [  3.70000000e+01,   7.70000000e+04],\n",
       "       [  3.50000000e+01,   5.70000000e+04],\n",
       "       [  3.60000000e+01,   6.30000000e+04],\n",
       "       [  4.20000000e+01,   7.30000000e+04],\n",
       "       [  4.30000000e+01,   1.12000000e+05],\n",
       "       [  4.50000000e+01,   7.90000000e+04],\n",
       "       [  4.60000000e+01,   1.17000000e+05],\n",
       "       [  5.80000000e+01,   3.80000000e+04],\n",
       "       [  4.80000000e+01,   7.40000000e+04],\n",
       "       [  3.70000000e+01,   1.37000000e+05],\n",
       "       [  3.70000000e+01,   7.90000000e+04],\n",
       "       [  4.00000000e+01,   6.00000000e+04],\n",
       "       [  4.20000000e+01,   5.40000000e+04],\n",
       "       [  5.10000000e+01,   1.34000000e+05],\n",
       "       [  4.70000000e+01,   1.13000000e+05],\n",
       "       [  3.60000000e+01,   1.25000000e+05],\n",
       "       [  3.80000000e+01,   5.00000000e+04],\n",
       "       [  4.20000000e+01,   7.00000000e+04],\n",
       "       [  3.90000000e+01,   9.60000000e+04],\n",
       "       [  3.80000000e+01,   5.00000000e+04],\n",
       "       [  4.90000000e+01,   1.41000000e+05],\n",
       "       [  3.90000000e+01,   7.90000000e+04],\n",
       "       [  3.90000000e+01,   7.50000000e+04],\n",
       "       [  5.40000000e+01,   1.04000000e+05],\n",
       "       [  3.50000000e+01,   5.50000000e+04],\n",
       "       [  4.50000000e+01,   3.20000000e+04],\n",
       "       [  3.60000000e+01,   6.00000000e+04],\n",
       "       [  5.20000000e+01,   1.38000000e+05],\n",
       "       [  5.30000000e+01,   8.20000000e+04],\n",
       "       [  4.10000000e+01,   5.20000000e+04],\n",
       "       [  4.80000000e+01,   3.00000000e+04],\n",
       "       [  4.80000000e+01,   1.31000000e+05],\n",
       "       [  4.10000000e+01,   6.00000000e+04],\n",
       "       [  4.10000000e+01,   7.20000000e+04],\n",
       "       [  4.20000000e+01,   7.50000000e+04],\n",
       "       [  3.60000000e+01,   1.18000000e+05],\n",
       "       [  4.70000000e+01,   1.07000000e+05],\n",
       "       [  3.80000000e+01,   5.10000000e+04],\n",
       "       [  4.80000000e+01,   1.19000000e+05],\n",
       "       [  4.20000000e+01,   6.50000000e+04],\n",
       "       [  4.00000000e+01,   6.50000000e+04],\n",
       "       [  5.70000000e+01,   6.00000000e+04],\n",
       "       [  3.60000000e+01,   5.40000000e+04],\n",
       "       [  5.80000000e+01,   1.44000000e+05],\n",
       "       [  3.50000000e+01,   7.90000000e+04],\n",
       "       [  3.80000000e+01,   5.50000000e+04],\n",
       "       [  3.90000000e+01,   1.22000000e+05],\n",
       "       [  5.30000000e+01,   1.04000000e+05],\n",
       "       [  3.50000000e+01,   7.50000000e+04],\n",
       "       [  3.80000000e+01,   6.50000000e+04],\n",
       "       [  4.70000000e+01,   5.10000000e+04],\n",
       "       [  4.70000000e+01,   1.05000000e+05],\n",
       "       [  4.10000000e+01,   6.30000000e+04],\n",
       "       [  5.30000000e+01,   7.20000000e+04],\n",
       "       [  5.40000000e+01,   1.08000000e+05],\n",
       "       [  3.90000000e+01,   7.70000000e+04],\n",
       "       [  3.80000000e+01,   6.10000000e+04],\n",
       "       [  3.80000000e+01,   1.13000000e+05],\n",
       "       [  3.70000000e+01,   7.50000000e+04],\n",
       "       [  4.20000000e+01,   9.00000000e+04],\n",
       "       [  3.70000000e+01,   5.70000000e+04],\n",
       "       [  3.60000000e+01,   9.90000000e+04],\n",
       "       [  6.00000000e+01,   3.40000000e+04],\n",
       "       [  5.40000000e+01,   7.00000000e+04],\n",
       "       [  4.10000000e+01,   7.20000000e+04],\n",
       "       [  4.00000000e+01,   7.10000000e+04],\n",
       "       [  4.20000000e+01,   5.40000000e+04],\n",
       "       [  4.30000000e+01,   1.29000000e+05],\n",
       "       [  5.30000000e+01,   3.40000000e+04],\n",
       "       [  4.70000000e+01,   5.00000000e+04],\n",
       "       [  4.20000000e+01,   7.90000000e+04],\n",
       "       [  4.20000000e+01,   1.04000000e+05],\n",
       "       [  5.90000000e+01,   2.90000000e+04],\n",
       "       [  5.80000000e+01,   4.70000000e+04],\n",
       "       [  4.60000000e+01,   8.80000000e+04],\n",
       "       [  3.80000000e+01,   7.10000000e+04],\n",
       "       [  5.40000000e+01,   2.60000000e+04],\n",
       "       [  6.00000000e+01,   4.60000000e+04],\n",
       "       [  6.00000000e+01,   8.30000000e+04],\n",
       "       [  3.90000000e+01,   7.30000000e+04],\n",
       "       [  5.90000000e+01,   1.30000000e+05],\n",
       "       [  3.70000000e+01,   8.00000000e+04],\n",
       "       [  4.60000000e+01,   3.20000000e+04],\n",
       "       [  4.60000000e+01,   7.40000000e+04],\n",
       "       [  4.20000000e+01,   5.30000000e+04],\n",
       "       [  4.10000000e+01,   8.70000000e+04],\n",
       "       [  5.80000000e+01,   2.30000000e+04],\n",
       "       [  4.20000000e+01,   6.40000000e+04],\n",
       "       [  4.80000000e+01,   3.30000000e+04],\n",
       "       [  4.40000000e+01,   1.39000000e+05],\n",
       "       [  4.90000000e+01,   2.80000000e+04],\n",
       "       [  5.70000000e+01,   3.30000000e+04],\n",
       "       [  5.60000000e+01,   6.00000000e+04],\n",
       "       [  4.90000000e+01,   3.90000000e+04],\n",
       "       [  3.90000000e+01,   7.10000000e+04],\n",
       "       [  4.70000000e+01,   3.40000000e+04],\n",
       "       [  4.80000000e+01,   3.50000000e+04],\n",
       "       [  4.80000000e+01,   3.30000000e+04],\n",
       "       [  4.70000000e+01,   2.30000000e+04],\n",
       "       [  4.50000000e+01,   4.50000000e+04],\n",
       "       [  6.00000000e+01,   4.20000000e+04],\n",
       "       [  3.90000000e+01,   5.90000000e+04],\n",
       "       [  4.60000000e+01,   4.10000000e+04],\n",
       "       [  5.10000000e+01,   2.30000000e+04],\n",
       "       [  5.00000000e+01,   2.00000000e+04],\n",
       "       [  3.60000000e+01,   3.30000000e+04],\n",
       "       [  4.90000000e+01,   3.60000000e+04]])"
      ]
     },
     "execution_count": 7,
     "metadata": {},
     "output_type": "execute_result"
    }
   ],
   "source": [
    "X"
   ]
  },
  {
   "cell_type": "code",
   "execution_count": 8,
   "metadata": {
    "collapsed": false
   },
   "outputs": [
    {
     "data": {
      "text/plain": [
       "array([0, 0, 0, 0, 0, 0, 0, 1, 0, 0, 0, 0, 0, 0, 0, 0, 1, 1, 1, 1, 1, 1, 1,\n",
       "       1, 1, 1, 1, 1, 0, 0, 0, 1, 0, 0, 0, 0, 0, 0, 0, 0, 0, 0, 0, 0, 0, 0,\n",
       "       0, 0, 1, 0, 0, 0, 0, 0, 0, 0, 0, 0, 0, 0, 0, 0, 0, 1, 0, 0, 0, 0, 0,\n",
       "       0, 0, 0, 0, 0, 0, 1, 0, 0, 0, 0, 0, 0, 0, 0, 0, 1, 0, 0, 0, 0, 0, 0,\n",
       "       0, 0, 0, 0, 0, 1, 0, 0, 0, 0, 0, 1, 0, 0, 0, 0, 0, 0, 0, 0, 0, 0, 0,\n",
       "       0, 0, 0, 0, 0, 0, 0, 0, 0, 0, 0, 0, 0, 0, 0, 0, 0, 0, 0, 0, 0, 0, 1,\n",
       "       0, 0, 0, 0, 0, 0, 0, 0, 1, 0, 0, 0, 0, 0, 0, 0, 0, 0, 0, 0, 0, 1, 1,\n",
       "       0, 0, 0, 0, 0, 0, 0, 1, 0, 0, 0, 0, 0, 0, 0, 0, 0, 0, 0, 0, 0, 1, 0,\n",
       "       0, 0, 0, 0, 0, 0, 0, 0, 0, 0, 0, 0, 0, 0, 0, 0, 0, 0, 1, 0, 1, 0, 1,\n",
       "       0, 1, 0, 1, 1, 0, 0, 0, 1, 0, 0, 0, 1, 0, 1, 1, 1, 0, 0, 1, 1, 0, 1,\n",
       "       1, 0, 1, 1, 0, 1, 0, 0, 0, 1, 1, 0, 1, 1, 0, 1, 0, 1, 0, 1, 0, 0, 1,\n",
       "       1, 0, 1, 0, 0, 1, 1, 0, 1, 1, 0, 1, 1, 0, 0, 1, 0, 0, 1, 1, 1, 1, 1,\n",
       "       0, 1, 1, 1, 1, 0, 1, 1, 0, 1, 0, 1, 0, 1, 1, 1, 1, 0, 0, 0, 1, 1, 0,\n",
       "       1, 1, 1, 1, 1, 0, 0, 0, 1, 1, 0, 0, 1, 0, 1, 0, 1, 1, 0, 1, 0, 1, 1,\n",
       "       0, 1, 1, 0, 0, 0, 1, 1, 0, 1, 0, 0, 1, 0, 1, 0, 0, 1, 1, 0, 0, 1, 1,\n",
       "       0, 1, 1, 0, 0, 1, 0, 1, 0, 1, 1, 1, 0, 1, 0, 1, 1, 1, 0, 1, 1, 1, 1,\n",
       "       0, 1, 1, 1, 0, 1, 0, 1, 0, 0, 1, 1, 0, 1, 1, 1, 1, 1, 1, 0, 1, 1, 1,\n",
       "       1, 1, 1, 0, 1, 1, 1, 0, 1], dtype=int64)"
      ]
     },
     "execution_count": 8,
     "metadata": {},
     "output_type": "execute_result"
    }
   ],
   "source": [
    "y"
   ]
  },
  {
   "cell_type": "code",
   "execution_count": 9,
   "metadata": {
    "collapsed": false
   },
   "outputs": [
    {
     "data": {
      "text/plain": [
       "Index(['User ID', 'Gender', 'Age', 'EstimatedSalary', 'Purchased'], dtype='object')"
      ]
     },
     "execution_count": 9,
     "metadata": {},
     "output_type": "execute_result"
    }
   ],
   "source": [
    "dataset.columns"
   ]
  },
  {
   "cell_type": "markdown",
   "metadata": {},
   "source": [
    "# Splitting the Dataset Into the Train Test Split"
   ]
  },
  {
   "cell_type": "code",
   "execution_count": 13,
   "metadata": {
    "collapsed": false
   },
   "outputs": [],
   "source": [
    "from sklearn.cross_validation import train_test_split"
   ]
  },
  {
   "cell_type": "code",
   "execution_count": 14,
   "metadata": {
    "collapsed": true
   },
   "outputs": [],
   "source": [
    "X_train, X_test, y_train, y_test = train_test_split(X, y, test_size = 0.25, random_state = 0)"
   ]
  },
  {
   "cell_type": "markdown",
   "metadata": {},
   "source": [
    "# Feature Scaling"
   ]
  },
  {
   "cell_type": "code",
   "execution_count": 16,
   "metadata": {
    "collapsed": true
   },
   "outputs": [],
   "source": [
    "from sklearn.preprocessing import StandardScaler\n",
    "sc = StandardScaler()\n",
    "X_train = sc.fit_transform(X_train)\n",
    "X_test = sc.transform(X_test)"
   ]
  },
  {
   "cell_type": "markdown",
   "metadata": {},
   "source": [
    "# Fitting Classifier to the Training Set\n"
   ]
  },
  {
   "cell_type": "code",
   "execution_count": 17,
   "metadata": {
    "collapsed": true
   },
   "outputs": [],
   "source": [
    "from sklearn.tree import DecisionTreeClassifier"
   ]
  },
  {
   "cell_type": "code",
   "execution_count": 19,
   "metadata": {
    "collapsed": true
   },
   "outputs": [],
   "source": [
    "classifier = DecisionTreeClassifier(criterion = 'entropy', random_state = 0)"
   ]
  },
  {
   "cell_type": "code",
   "execution_count": 20,
   "metadata": {
    "collapsed": false
   },
   "outputs": [
    {
     "data": {
      "text/plain": [
       "DecisionTreeClassifier(class_weight=None, criterion='entropy', max_depth=None,\n",
       "            max_features=None, max_leaf_nodes=None,\n",
       "            min_impurity_split=1e-07, min_samples_leaf=1,\n",
       "            min_samples_split=2, min_weight_fraction_leaf=0.0,\n",
       "            presort=False, random_state=0, splitter='best')"
      ]
     },
     "execution_count": 20,
     "metadata": {},
     "output_type": "execute_result"
    }
   ],
   "source": [
    "classifier.fit(X_train, y_train)"
   ]
  },
  {
   "cell_type": "markdown",
   "metadata": {},
   "source": [
    "# Predicting the Test Set Results"
   ]
  },
  {
   "cell_type": "code",
   "execution_count": 21,
   "metadata": {
    "collapsed": true
   },
   "outputs": [],
   "source": [
    "y_pred = classifier.predict(X_test)"
   ]
  },
  {
   "cell_type": "code",
   "execution_count": 22,
   "metadata": {
    "collapsed": false
   },
   "outputs": [
    {
     "data": {
      "text/plain": [
       "array([0, 0, 0, 0, 0, 0, 0, 1, 0, 0, 0, 0, 0, 1, 0, 1, 1, 0, 1, 0, 0, 1, 0,\n",
       "       1, 0, 0, 0, 0, 0, 0, 0, 0, 1, 0, 0, 0, 0, 0, 0, 1, 0, 0, 0, 0, 1, 0,\n",
       "       0, 1, 0, 1, 1, 0, 0, 1, 1, 1, 0, 0, 1, 0, 0, 1, 0, 1, 0, 1, 0, 0, 0,\n",
       "       1, 1, 0, 0, 1, 0, 0, 0, 0, 1, 1, 1, 1, 0, 0, 1, 0, 0, 1, 1, 0, 0, 1,\n",
       "       0, 0, 0, 1, 0, 1, 1, 1], dtype=int64)"
      ]
     },
     "execution_count": 22,
     "metadata": {},
     "output_type": "execute_result"
    }
   ],
   "source": [
    "y_pred"
   ]
  },
  {
   "cell_type": "markdown",
   "metadata": {},
   "source": [
    "# Making the Confusion Matrix"
   ]
  },
  {
   "cell_type": "code",
   "execution_count": 24,
   "metadata": {
    "collapsed": true
   },
   "outputs": [],
   "source": [
    "from sklearn.metrics import confusion_matrix"
   ]
  },
  {
   "cell_type": "code",
   "execution_count": 25,
   "metadata": {
    "collapsed": true
   },
   "outputs": [],
   "source": [
    "cm = confusion_matrix(y_test, y_pred)"
   ]
  },
  {
   "cell_type": "code",
   "execution_count": 26,
   "metadata": {
    "collapsed": false
   },
   "outputs": [
    {
     "data": {
      "text/plain": [
       "array([[62,  6],\n",
       "       [ 3, 29]])"
      ]
     },
     "execution_count": 26,
     "metadata": {},
     "output_type": "execute_result"
    }
   ],
   "source": [
    "cm"
   ]
  },
  {
   "cell_type": "markdown",
   "metadata": {},
   "source": [
    "# Visualizing the Training Set Results"
   ]
  },
  {
   "cell_type": "code",
   "execution_count": 28,
   "metadata": {
    "collapsed": true
   },
   "outputs": [],
   "source": [
    "from matplotlib.colors import ListedColormap"
   ]
  },
  {
   "cell_type": "code",
   "execution_count": 35,
   "metadata": {
    "collapsed": false
   },
   "outputs": [
    {
     "data": {
      "image/png": "[encoded data removed]",
      "text/plain": [
       "<matplotlib.figure.Figure at 0x217005299b0>"
      ]
     },
     "metadata": {},
     "output_type": "display_data"
    }
   ],
   "source": [
    "X_set, y_set = X_train, y_train\n",
    "X1, X2 = np.meshgrid(np.arange(start = X_set[:, 0].min() - 1, stop = X_set[:, 0].max() + 1, step = 0.01),\n",
    "                     np.arange(start = X_set[:, 1].min() - 1, stop = X_set[:, 1].max() + 1, step = 0.01))\n",
    "plt.contourf(X1, X2, classifier.predict(np.array([X1.ravel(), X2.ravel()]).T).reshape(X1.shape),\n",
    "             alpha = 0.75, cmap = ListedColormap(('red', 'green')))\n",
    "plt.xlim(X1.min(), X1.max())\n",
    "plt.ylim(X2.min(), X2.max())\n",
    "for i, j in enumerate(np.unique(y_set)):\n",
    "    plt.scatter(X_set[y_set == j, 0], X_set[y_set == j, 1],\n",
    "                c = ListedColormap(('red', 'green'))(i), label = j)\n",
    "plt.title('Decision Tree (Training Set)')\n",
    "plt.xlabel('Age')\n",
    "plt.ylabel('Estimated Salary')\n",
    "plt.legend()\n",
    "plt.show()"
   ]
  },
  {
   "cell_type": "markdown",
   "metadata": {},
   "source": [
    "# Visulaizing the Test Set Results"
   ]
  },
  {
   "cell_type": "code",
   "execution_count": 36,
   "metadata": {
    "collapsed": false
   },
   "outputs": [
    {
     "data": {
      "image/png": "[encoded data removed]",
      "text/plain": [
       "<matplotlib.figure.Figure at 0x217007f4278>"
      ]
     },
     "metadata": {},
     "output_type": "display_data"
    }
   ],
   "source": [
    "X_set, y_set = X_test, y_test\n",
    "X1, X2 = np.meshgrid(np.arange(start = X_set[:, 0].min() - 1, stop = X_set[:, 0].max() + 1, step = 0.01),\n",
    "                     np.arange(start = X_set[:, 1].min() - 1, stop = X_set[:, 1].max() + 1, step = 0.01))\n",
    "plt.contourf(X1, X2, classifier.predict(np.array([X1.ravel(), X2.ravel()]).T).reshape(X1.shape),\n",
    "             alpha = 0.75, cmap = ListedColormap(('red', 'green')))\n",
    "plt.xlim(X1.min(), X1.max())\n",
    "plt.ylim(X2.min(), X2.max())\n",
    "for i, j in enumerate(np.unique(y_set)):\n",
    "    plt.scatter(X_set[y_set == j, 0], X_set[y_set == j, 1],\n",
    "                c = ListedColormap(('blue', 'yellow'))(i), label = j)\n",
    "plt.title('Decision Tree (Test Set)')\n",
    "plt.xlabel('Age')\n",
    "plt.ylabel('Estimated Salary')\n",
    "plt.legend()\n",
    "plt.show()"
   ]
  },
  {
   "cell_type": "code",
   "execution_count": null,
   "metadata": {
    "collapsed": true
   },
   "outputs": [],
   "source": []
  }
 ],
 "metadata": {
  "anaconda-cloud": {},
  "kernelspec": {
   "display_name": "Python [conda root]",
   "language": "python",
   "name": "conda-root-py"
  },
  "language_info": {
   "codemirror_mode": {
    "name": "ipython",
    "version": 3
   },
   "file_extension": ".py",
   "mimetype": "text/x-python",
   "name": "python",
   "nbconvert_exporter": "python",
   "pygments_lexer": "ipython3",
   "version": "3.5.2"
  }
 },
 "nbformat": 4,
 "nbformat_minor": 2
}
